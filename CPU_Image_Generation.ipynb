{
 "cells": [
  {
   "cell_type": "code",
   "execution_count": 1,
   "metadata": {},
   "outputs": [
    {
     "data": {
      "text/plain": [
       "'/Users/DrewAfromsky/Desktop/Fall_2019/EECS_4750_Heterogeneous_Comp_Sign_Processing/Final_Project/Serial'"
      ]
     },
     "execution_count": 1,
     "metadata": {},
     "output_type": "execute_result"
    }
   ],
   "source": [
    "import os\n",
    "os.getcwd()"
   ]
  },
  {
   "cell_type": "code",
   "execution_count": null,
   "metadata": {},
   "outputs": [],
   "source": [
    "# Go to directory with the serial code\n",
    "# os.chdir('EECS_4750_Heterogeneous_Comp_Sign_Processing/Final_Project/Serial/')"
   ]
  },
  {
   "cell_type": "code",
   "execution_count": null,
   "metadata": {},
   "outputs": [],
   "source": [
    "# Import all functions from the python file titled: cifar_utils.py\n",
    "from cifar_utils import *"
   ]
  },
  {
   "cell_type": "code",
   "execution_count": null,
   "metadata": {},
   "outputs": [],
   "source": [
    "# Run the function that downloads the dataset\n",
    "print(download_data())"
   ]
  },
  {
   "cell_type": "code",
   "execution_count": null,
   "metadata": {},
   "outputs": [],
   "source": [
    "# Run the function that loads the dataset\n",
    "imgs = load_data(mode='all')\n",
    "# print(\"Data: {} \".format(images))"
   ]
  },
  {
   "cell_type": "code",
   "execution_count": null,
   "metadata": {},
   "outputs": [],
   "source": [
    "# Reshape the images to RGB size\n",
    "images = imgs.reshape(-1,3,32,32).transpose(0,2,3,1) "
   ]
  },
  {
   "cell_type": "code",
   "execution_count": null,
   "metadata": {},
   "outputs": [],
   "source": [
    "# Number of image examples and their corresponding dimensions\n",
    "images.shape"
   ]
  },
  {
   "cell_type": "code",
   "execution_count": null,
   "metadata": {},
   "outputs": [],
   "source": [
    "# Call the function that displays the first 16 images in the data set\n",
    "print(show(images))"
   ]
  },
  {
   "cell_type": "code",
   "execution_count": null,
   "metadata": {},
   "outputs": [],
   "source": [
    "from image_generator import ImageGenerator\n",
    "gen = ImageGenerator()\n",
    "gen.show(images)"
   ]
  },
  {
   "cell_type": "code",
   "execution_count": null,
   "metadata": {},
   "outputs": [],
   "source": [
    "import time\n",
    "start_rot = time.time()\n",
    "rotate = gen.rotate(images, angle=30)\n",
    "end_rot = time.time()\n",
    "serial_time_rot = end_rot - start_rot\n",
    "print(serial_time_rot)\n",
    "gen.show(rotate)"
   ]
  },
  {
   "cell_type": "code",
   "execution_count": null,
   "metadata": {},
   "outputs": [],
   "source": [
    "import time\n",
    "start_rot = time.time()\n",
    "rotate = gen.rotate(images, angle=60)\n",
    "end_rot = time.time()\n",
    "serial_time_rot = end_rot - start_rot\n",
    "print(serial_time_rot)\n",
    "gen.show(rotate)"
   ]
  },
  {
   "cell_type": "code",
   "execution_count": null,
   "metadata": {},
   "outputs": [],
   "source": [
    "import time\n",
    "start_rot = time.time()\n",
    "rotate = gen.rotate(images, angle=90)\n",
    "end_rot = time.time()\n",
    "serial_time_rot = end_rot - start_rot\n",
    "print(serial_time_rot)\n",
    "gen.show(rotate)"
   ]
  },
  {
   "cell_type": "code",
   "execution_count": null,
   "metadata": {},
   "outputs": [],
   "source": [
    "blur = gen.gauss_filt(images)"
   ]
  },
  {
   "cell_type": "code",
   "execution_count": null,
   "metadata": {},
   "outputs": [],
   "source": [
    "blur_avg = gen.avg_blur(images)"
   ]
  },
  {
   "cell_type": "code",
   "execution_count": null,
   "metadata": {},
   "outputs": [],
   "source": [
    "trans = gen.matrix_transpose(images)"
   ]
  },
  {
   "cell_type": "code",
   "execution_count": null,
   "metadata": {},
   "outputs": [],
   "source": [
    "import cv2\n",
    "import os\n",
    "import glob\n",
    "import time\n",
    "from scipy.ndimage.interpolation import rotate\n",
    "\n",
    "os.getcwd()\n",
    "\n",
    "os.chdir(\"path_slides_100\")\n",
    "\n",
    "cpu_times = []\n",
    "\n",
    "for file in glob.glob(\"*.jpg\"):\n",
    "    img = cv2.imread(file)\n",
    "    gray = cv2.cvtColor(img, cv2.COLOR_BGR2GRAY)\n",
    "    start= time.time()\n",
    "#     result = cv2.blur(img,(11, 11))\n",
    "#     img_T = np.transpose(img)\n",
    "    rotated = rotate(gray, angle=30, reshape=False)\n",
    "    end = time.time()\n",
    "    ktime=end-start\n",
    "    cpu_times.append(ktime)\n",
    "    \n",
    "counter=0\n",
    "for ct in range(len(cpu_times)):\n",
    "    counter += cpu_times[ct]\n",
    "print(counter)"
   ]
  },
  {
   "cell_type": "code",
   "execution_count": null,
   "metadata": {},
   "outputs": [],
   "source": [
    "\n",
    "###           ###\n",
    "###   BLUR    ###\n",
    "###           ###\n",
    "\n",
    "import time\n",
    "import numpy as np\n",
    "import cv2\n",
    "\n",
    "def avg_blurp(images):\n",
    "\n",
    "    start_blur_avg = time.time()\n",
    "    result_avg = cv2.blur(images,(3,3)) # 11,11 for pathology\n",
    "    end_blur_avg = time.time()    \n",
    "    serial_time_blur_avg = end_blur_avg - start_blur_avg\n",
    "   \n",
    "    print(serial_time_blur_avg)\n",
    "    \n",
    "    plt.imshow(result_avg, cmap=\"gray\")\n",
    "    plt.imsave(\"./CPU_42257_frog_BLUR.jpg\", result_avg, cmap=\"gray\")\n",
    "    plt.axis('off')\n",
    "    \n",
    "img = cv2.imread(\"CUDA_42257_frog_OG.png\")\n",
    "gray = cv2.cvtColor(img, cv2.COLOR_BGR2GRAY)\n",
    "gray = np.float32(gray)\n",
    "avg_blurp(gray)"
   ]
  },
  {
   "cell_type": "code",
   "execution_count": null,
   "metadata": {},
   "outputs": [],
   "source": [
    "\n",
    "###           ###\n",
    "### TRANSPOSE ###\n",
    "###           ###\n",
    "\n",
    "import time\n",
    "import numpy as np\n",
    "import cv2\n",
    "\n",
    "\n",
    "def matrix_transposep(images):\n",
    "\n",
    "    start_trans = time.time()\n",
    "    img_T = np.transpose(images)     \n",
    "    end_trans = time.time()\n",
    "    serial_time_trans = end_trans - start_trans\n",
    "    \n",
    "    print(serial_time_trans)\n",
    "\n",
    "    plt.imshow(img_T, cmap=\"gray\")\n",
    "    plt.imsave(\"./CPU_ZT76_39_A_4_3_gray_TRANS.jpg\", img_T, cmap=\"gray\")\n",
    "    plt.axis('off')\n",
    "\n",
    "img = cv2.imread(\"ZT76_39_A_4_3.jpg\")\n",
    "gray = cv2.cvtColor(img, cv2.COLOR_BGR2GRAY)\n",
    "gray = np.float32(gray)\n",
    "matrix_transposep(gray)\n"
   ]
  },
  {
   "cell_type": "code",
   "execution_count": null,
   "metadata": {},
   "outputs": [],
   "source": [
    "###           ###\n",
    "### ROTATION  ###\n",
    "###           ###\n",
    "\n",
    "import time\n",
    "import numpy as np\n",
    "import cv2\n",
    "from scipy.ndimage.interpolation import rotate\n",
    "\n",
    "def rotatep(images, angle=0.0):\n",
    "\n",
    "    \"\"\"\n",
    "    Rotate self.x by the angles (in degree) given.\n",
    "    :param angle: Rotation angle in degrees.\n",
    "    :return rotated: rotated dataset\n",
    "    \"\"\"\n",
    "\n",
    "    dor = angle\n",
    "    rotated = rotate(images, angle, reshape=False)\n",
    "    print('Currrent rotation: {} degrees'.format(dor))\n",
    "\n",
    "    plt.imshow(rotated, cmap=\"gray\")\n",
    "    plt.imsave(\"./CPU_42257_frog_ROTATED.png\", rotated, cmap=\"gray\")\n",
    "    plt.axis('off')\n",
    "\n",
    "img = cv2.imread(\"CUDA_42257_frog_OG.png\")\n",
    "gray = cv2.cvtColor(img, cv2.COLOR_BGR2GRAY)\n",
    "gray = np.float32(gray)\n",
    "rotatep(gray, 30)\n"
   ]
  },
  {
   "cell_type": "code",
   "execution_count": null,
   "metadata": {},
   "outputs": [],
   "source": []
  }
 ],
 "metadata": {
  "kernelspec": {
   "display_name": "envTF113",
   "language": "python",
   "name": "envtf113"
  },
  "language_info": {
   "codemirror_mode": {
    "name": "ipython",
    "version": 3
   },
   "file_extension": ".py",
   "mimetype": "text/x-python",
   "name": "python",
   "nbconvert_exporter": "python",
   "pygments_lexer": "ipython3",
   "version": "3.6.9"
  }
 },
 "nbformat": 4,
 "nbformat_minor": 4
}
